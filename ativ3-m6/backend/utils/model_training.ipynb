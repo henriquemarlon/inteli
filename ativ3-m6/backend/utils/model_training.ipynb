{
  "cells": [
    {
      "cell_type": "code",
      "execution_count": 6,
      "metadata": {
        "colab": {
          "base_uri": "https://localhost:8080/"
        },
        "id": "xKkw6C7Npub7",
        "outputId": "650cd097-b42a-4d11-dbb1-ee93181e3d43"
      },
      "outputs": [],
      "source": [
        "from getpass import getpass\n",
        "\n",
        "api_key = getpass('Put YOUR_API_KEY secret on this input: ')"
      ]
    },
    {
      "cell_type": "code",
      "execution_count": 7,
      "metadata": {
        "colab": {
          "base_uri": "https://localhost:8080/"
        },
        "id": "ylrrOkBgqUkf",
        "outputId": "13288e1f-844b-4f85-d395-a43ab2c4f731"
      },
      "outputs": [
        {
          "name": "stdout",
          "output_type": "stream",
          "text": [
            "\n",
            "\u001b[1m[\u001b[0m\u001b[34;49mnotice\u001b[0m\u001b[1;39;49m]\u001b[0m\u001b[39;49m A new release of pip available: \u001b[0m\u001b[31;49m22.2.1\u001b[0m\u001b[39;49m -> \u001b[0m\u001b[32;49m23.1.2\u001b[0m\n",
            "\u001b[1m[\u001b[0m\u001b[34;49mnotice\u001b[0m\u001b[1;39;49m]\u001b[0m\u001b[39;49m To update, run: \u001b[0m\u001b[32;49mpip install --upgrade pip\u001b[0m\n",
            "Note: you may need to restart the kernel to use updated packages.\n",
            "loading Roboflow workspace...\n",
            "loading Roboflow project...\n",
            "Dependency ultralytics<=8.0.20 is required but found version=8.0.110, to fix: `pip install ultralytics<=8.0.20`\n",
            "Downloading Dataset Version Zip in crack-2 to yolov8: 100% [142154958 / 142154958] bytes\n"
          ]
        },
        {
          "name": "stderr",
          "output_type": "stream",
          "text": [
            "Extracting Dataset Version Zip to crack-2 in yolov8:: 100%|██████████| 8070/8070 [00:01<00:00, 7218.30it/s]\n"
          ]
        }
      ],
      "source": [
        "%pip install roboflow --quiet\n",
        "\n",
        "from roboflow import Roboflow\n",
        "\n",
        "rf = Roboflow(api_key=api_key)\n",
        "project = rf.workspace(\"university-bswxt\").project(\"crack-bphdr\")\n",
        "dataset = project.version(2).download(\"yolov8\")"
      ]
    },
    {
      "cell_type": "code",
      "execution_count": 8,
      "metadata": {
        "colab": {
          "base_uri": "https://localhost:8080/"
        },
        "id": "FcamZFuKJSH9",
        "outputId": "54633ca3-514c-4b99-fa37-5502166242af"
      },
      "outputs": [
        {
          "name": "stdout",
          "output_type": "stream",
          "text": [
            "Requirement already satisfied: ultralytics in /home/henriquemarlon/SecondDisk/Inteli/ativ3-m6/lib/python3.10/site-packages (8.0.110)\n",
            "Requirement already satisfied: requests>=2.23.0 in /home/henriquemarlon/SecondDisk/Inteli/ativ3-m6/lib/python3.10/site-packages (from ultralytics) (2.31.0)\n",
            "Requirement already satisfied: scipy>=1.4.1 in /home/henriquemarlon/SecondDisk/Inteli/ativ3-m6/lib/python3.10/site-packages (from ultralytics) (1.10.1)\n",
            "Requirement already satisfied: torch>=1.7.0 in /home/henriquemarlon/SecondDisk/Inteli/ativ3-m6/lib/python3.10/site-packages (from ultralytics) (2.0.1)\n",
            "Requirement already satisfied: psutil in /home/henriquemarlon/SecondDisk/Inteli/ativ3-m6/lib/python3.10/site-packages (from ultralytics) (5.9.5)\n",
            "Requirement already satisfied: matplotlib>=3.2.2 in /home/henriquemarlon/SecondDisk/Inteli/ativ3-m6/lib/python3.10/site-packages (from ultralytics) (3.7.1)\n",
            "Requirement already satisfied: pandas>=1.1.4 in /home/henriquemarlon/SecondDisk/Inteli/ativ3-m6/lib/python3.10/site-packages (from ultralytics) (2.0.1)\n",
            "Requirement already satisfied: opencv-python>=4.6.0 in /home/henriquemarlon/SecondDisk/Inteli/ativ3-m6/lib/python3.10/site-packages (from ultralytics) (4.7.0.72)\n",
            "Requirement already satisfied: PyYAML>=5.3.1 in /home/henriquemarlon/SecondDisk/Inteli/ativ3-m6/lib/python3.10/site-packages (from ultralytics) (6.0)\n",
            "Requirement already satisfied: Pillow>=7.1.2 in /home/henriquemarlon/SecondDisk/Inteli/ativ3-m6/lib/python3.10/site-packages (from ultralytics) (9.5.0)\n",
            "Requirement already satisfied: torchvision>=0.8.1 in /home/henriquemarlon/SecondDisk/Inteli/ativ3-m6/lib/python3.10/site-packages (from ultralytics) (0.15.2)\n",
            "Requirement already satisfied: tqdm>=4.64.0 in /home/henriquemarlon/SecondDisk/Inteli/ativ3-m6/lib/python3.10/site-packages (from ultralytics) (4.65.0)\n",
            "Requirement already satisfied: seaborn>=0.11.0 in /home/henriquemarlon/SecondDisk/Inteli/ativ3-m6/lib/python3.10/site-packages (from ultralytics) (0.12.2)\n",
            "Requirement already satisfied: numpy>=1.20 in /home/henriquemarlon/SecondDisk/Inteli/ativ3-m6/lib/python3.10/site-packages (from matplotlib>=3.2.2->ultralytics) (1.24.3)\n",
            "Requirement already satisfied: fonttools>=4.22.0 in /home/henriquemarlon/SecondDisk/Inteli/ativ3-m6/lib/python3.10/site-packages (from matplotlib>=3.2.2->ultralytics) (4.39.4)\n",
            "Requirement already satisfied: kiwisolver>=1.0.1 in /home/henriquemarlon/SecondDisk/Inteli/ativ3-m6/lib/python3.10/site-packages (from matplotlib>=3.2.2->ultralytics) (1.4.4)\n",
            "Requirement already satisfied: cycler>=0.10 in /home/henriquemarlon/SecondDisk/Inteli/ativ3-m6/lib/python3.10/site-packages (from matplotlib>=3.2.2->ultralytics) (0.10.0)\n",
            "Requirement already satisfied: packaging>=20.0 in /home/henriquemarlon/SecondDisk/Inteli/ativ3-m6/lib/python3.10/site-packages (from matplotlib>=3.2.2->ultralytics) (23.1)\n",
            "Requirement already satisfied: python-dateutil>=2.7 in /home/henriquemarlon/SecondDisk/Inteli/ativ3-m6/lib/python3.10/site-packages (from matplotlib>=3.2.2->ultralytics) (2.8.2)\n",
            "Requirement already satisfied: pyparsing>=2.3.1 in /home/henriquemarlon/SecondDisk/Inteli/ativ3-m6/lib/python3.10/site-packages (from matplotlib>=3.2.2->ultralytics) (2.4.7)\n",
            "Requirement already satisfied: contourpy>=1.0.1 in /home/henriquemarlon/SecondDisk/Inteli/ativ3-m6/lib/python3.10/site-packages (from matplotlib>=3.2.2->ultralytics) (1.0.7)\n",
            "Requirement already satisfied: tzdata>=2022.1 in /home/henriquemarlon/SecondDisk/Inteli/ativ3-m6/lib/python3.10/site-packages (from pandas>=1.1.4->ultralytics) (2023.3)\n",
            "Requirement already satisfied: pytz>=2020.1 in /home/henriquemarlon/SecondDisk/Inteli/ativ3-m6/lib/python3.10/site-packages (from pandas>=1.1.4->ultralytics) (2023.3)\n",
            "Requirement already satisfied: certifi>=2017.4.17 in /home/henriquemarlon/SecondDisk/Inteli/ativ3-m6/lib/python3.10/site-packages (from requests>=2.23.0->ultralytics) (2022.12.7)\n",
            "Requirement already satisfied: idna<4,>=2.5 in /home/henriquemarlon/SecondDisk/Inteli/ativ3-m6/lib/python3.10/site-packages (from requests>=2.23.0->ultralytics) (2.10)\n",
            "Requirement already satisfied: charset-normalizer<4,>=2 in /home/henriquemarlon/SecondDisk/Inteli/ativ3-m6/lib/python3.10/site-packages (from requests>=2.23.0->ultralytics) (3.1.0)\n",
            "Requirement already satisfied: urllib3<3,>=1.21.1 in /home/henriquemarlon/SecondDisk/Inteli/ativ3-m6/lib/python3.10/site-packages (from requests>=2.23.0->ultralytics) (2.0.2)\n",
            "Requirement already satisfied: networkx in /home/henriquemarlon/SecondDisk/Inteli/ativ3-m6/lib/python3.10/site-packages (from torch>=1.7.0->ultralytics) (3.1)\n",
            "Requirement already satisfied: nvidia-cublas-cu11==11.10.3.66 in /home/henriquemarlon/SecondDisk/Inteli/ativ3-m6/lib/python3.10/site-packages (from torch>=1.7.0->ultralytics) (11.10.3.66)\n",
            "Requirement already satisfied: nvidia-cudnn-cu11==8.5.0.96 in /home/henriquemarlon/SecondDisk/Inteli/ativ3-m6/lib/python3.10/site-packages (from torch>=1.7.0->ultralytics) (8.5.0.96)\n",
            "Requirement already satisfied: nvidia-nvtx-cu11==11.7.91 in /home/henriquemarlon/SecondDisk/Inteli/ativ3-m6/lib/python3.10/site-packages (from torch>=1.7.0->ultralytics) (11.7.91)\n",
            "Requirement already satisfied: nvidia-cuda-cupti-cu11==11.7.101 in /home/henriquemarlon/SecondDisk/Inteli/ativ3-m6/lib/python3.10/site-packages (from torch>=1.7.0->ultralytics) (11.7.101)\n",
            "Requirement already satisfied: nvidia-cusparse-cu11==11.7.4.91 in /home/henriquemarlon/SecondDisk/Inteli/ativ3-m6/lib/python3.10/site-packages (from torch>=1.7.0->ultralytics) (11.7.4.91)\n",
            "Requirement already satisfied: nvidia-nccl-cu11==2.14.3 in /home/henriquemarlon/SecondDisk/Inteli/ativ3-m6/lib/python3.10/site-packages (from torch>=1.7.0->ultralytics) (2.14.3)\n",
            "Requirement already satisfied: typing-extensions in /home/henriquemarlon/SecondDisk/Inteli/ativ3-m6/lib/python3.10/site-packages (from torch>=1.7.0->ultralytics) (4.6.2)\n",
            "Requirement already satisfied: nvidia-cufft-cu11==10.9.0.58 in /home/henriquemarlon/SecondDisk/Inteli/ativ3-m6/lib/python3.10/site-packages (from torch>=1.7.0->ultralytics) (10.9.0.58)\n",
            "Requirement already satisfied: triton==2.0.0 in /home/henriquemarlon/SecondDisk/Inteli/ativ3-m6/lib/python3.10/site-packages (from torch>=1.7.0->ultralytics) (2.0.0)\n",
            "Requirement already satisfied: jinja2 in /home/henriquemarlon/SecondDisk/Inteli/ativ3-m6/lib/python3.10/site-packages (from torch>=1.7.0->ultralytics) (3.1.2)\n",
            "Requirement already satisfied: nvidia-cuda-nvrtc-cu11==11.7.99 in /home/henriquemarlon/SecondDisk/Inteli/ativ3-m6/lib/python3.10/site-packages (from torch>=1.7.0->ultralytics) (11.7.99)\n",
            "Requirement already satisfied: sympy in /home/henriquemarlon/SecondDisk/Inteli/ativ3-m6/lib/python3.10/site-packages (from torch>=1.7.0->ultralytics) (1.12)\n",
            "Requirement already satisfied: filelock in /home/henriquemarlon/SecondDisk/Inteli/ativ3-m6/lib/python3.10/site-packages (from torch>=1.7.0->ultralytics) (3.12.0)\n",
            "Requirement already satisfied: nvidia-cusolver-cu11==11.4.0.1 in /home/henriquemarlon/SecondDisk/Inteli/ativ3-m6/lib/python3.10/site-packages (from torch>=1.7.0->ultralytics) (11.4.0.1)\n",
            "Requirement already satisfied: nvidia-cuda-runtime-cu11==11.7.99 in /home/henriquemarlon/SecondDisk/Inteli/ativ3-m6/lib/python3.10/site-packages (from torch>=1.7.0->ultralytics) (11.7.99)\n",
            "Requirement already satisfied: nvidia-curand-cu11==10.2.10.91 in /home/henriquemarlon/SecondDisk/Inteli/ativ3-m6/lib/python3.10/site-packages (from torch>=1.7.0->ultralytics) (10.2.10.91)\n",
            "Requirement already satisfied: setuptools in /home/henriquemarlon/SecondDisk/Inteli/ativ3-m6/lib/python3.10/site-packages (from nvidia-cublas-cu11==11.10.3.66->torch>=1.7.0->ultralytics) (63.2.0)\n",
            "Requirement already satisfied: wheel in /home/henriquemarlon/SecondDisk/Inteli/ativ3-m6/lib/python3.10/site-packages (from nvidia-cublas-cu11==11.10.3.66->torch>=1.7.0->ultralytics) (0.40.0)\n",
            "Requirement already satisfied: lit in /home/henriquemarlon/SecondDisk/Inteli/ativ3-m6/lib/python3.10/site-packages (from triton==2.0.0->torch>=1.7.0->ultralytics) (16.0.5)\n",
            "Requirement already satisfied: cmake in /home/henriquemarlon/SecondDisk/Inteli/ativ3-m6/lib/python3.10/site-packages (from triton==2.0.0->torch>=1.7.0->ultralytics) (3.26.3)\n",
            "Requirement already satisfied: six in /home/henriquemarlon/SecondDisk/Inteli/ativ3-m6/lib/python3.10/site-packages (from cycler>=0.10->matplotlib>=3.2.2->ultralytics) (1.16.0)\n",
            "Requirement already satisfied: MarkupSafe>=2.0 in /home/henriquemarlon/SecondDisk/Inteli/ativ3-m6/lib/python3.10/site-packages (from jinja2->torch>=1.7.0->ultralytics) (2.1.2)\n",
            "Requirement already satisfied: mpmath>=0.19 in /home/henriquemarlon/SecondDisk/Inteli/ativ3-m6/lib/python3.10/site-packages (from sympy->torch>=1.7.0->ultralytics) (1.3.0)\n",
            "\n",
            "\u001b[1m[\u001b[0m\u001b[34;49mnotice\u001b[0m\u001b[1;39;49m]\u001b[0m\u001b[39;49m A new release of pip available: \u001b[0m\u001b[31;49m22.2.1\u001b[0m\u001b[39;49m -> \u001b[0m\u001b[32;49m23.1.2\u001b[0m\n",
            "\u001b[1m[\u001b[0m\u001b[34;49mnotice\u001b[0m\u001b[1;39;49m]\u001b[0m\u001b[39;49m To update, run: \u001b[0m\u001b[32;49mpip install --upgrade pip\u001b[0m\n",
            "Note: you may need to restart the kernel to use updated packages.\n"
          ]
        }
      ],
      "source": [
        "%pip install ultralytics"
      ]
    },
    {
      "cell_type": "code",
      "execution_count": 9,
      "metadata": {
        "colab": {
          "base_uri": "https://localhost:8080/"
        },
        "id": "zbSmyAud_Zbb",
        "outputId": "f973e49b-a734-406a-82ef-44363aeb1f03"
      },
      "outputs": [
        {
          "name": "stderr",
          "output_type": "stream",
          "text": [
            "UsageError: Line magic function `%yolo` not found.\n"
          ]
        }
      ],
      "source": [
        "from ultralytics import YOLO\n",
        "\n",
        "#treinamento do modelo\n",
        "%yolo train data=/content/crack-2/data.yaml model=yolov8n.pt epochs=10 lr0=0.01"
      ]
    }
  ],
  "metadata": {
    "accelerator": "GPU",
    "colab": {
      "gpuType": "T4",
      "provenance": []
    },
    "gpuClass": "standard",
    "kernelspec": {
      "display_name": "Python 3",
      "name": "python3"
    },
    "language_info": {
      "codemirror_mode": {
        "name": "ipython",
        "version": 3
      },
      "file_extension": ".py",
      "mimetype": "text/x-python",
      "name": "python",
      "nbconvert_exporter": "python",
      "pygments_lexer": "ipython3",
      "version": "3.10.6"
    }
  },
  "nbformat": 4,
  "nbformat_minor": 0
}
