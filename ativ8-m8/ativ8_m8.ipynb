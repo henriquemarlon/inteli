{
  "nbformat": 4,
  "nbformat_minor": 0,
  "metadata": {
    "colab": {
      "provenance": []
    },
    "kernelspec": {
      "name": "python3",
      "display_name": "Python 3"
    },
    "language_info": {
      "name": "python"
    }
  },
  "cells": [
    {
      "cell_type": "markdown",
      "source": [
        "# Installing necessary libraries\n",
        "\n"
      ],
      "metadata": {
        "id": "uLP7rs-fOsQJ"
      }
    },
    {
      "cell_type": "code",
      "source": [
        "import tensorflow as tf\n",
        "import numpy as np\n",
        "import matplotlib.pyplot as plt"
      ],
      "metadata": {
        "id": "qkatFKNOKWhg"
      },
      "execution_count": null,
      "outputs": []
    },
    {
      "cell_type": "markdown",
      "source": [
        "# Loading"
      ],
      "metadata": {
        "id": "uTaXQflnKrTh"
      }
    },
    {
      "cell_type": "code",
      "source": [
        "# Loading the MNIST dataset using TensorFlow's Keras API\n",
        "mnist = tf.keras.datasets.mnist\n",
        "\n",
        "# Separating the dataset into training and testing sets\n",
        "# x_train and x_test contain images of handwritten digits,\n",
        "# while y_train and y_test contain corresponding digit labels\n",
        "(x_train, y_train), (x_test, y_test) = mnist.load_data()"
      ],
      "metadata": {
        "id": "m-WTLUcDOwx9"
      },
      "execution_count": null,
      "outputs": []
    },
    {
      "cell_type": "markdown",
      "source": [
        "# Normalization\n",
        "\n",
        "1.   List item\n",
        "2.   List item\n",
        "\n"
      ],
      "metadata": {
        "id": "Gkaj2c9eLRPt"
      }
    },
    {
      "cell_type": "code",
      "source": [
        "# Normalizing the pixel values of images in the training set (x_train)\n",
        "# and testing set (x_test) along the specified axis (axis=1)\n",
        "x_train = tf.keras.utils.normalize(x_train, axis=1)\n",
        "x_test = tf.keras.utils.normalize(x_test, axis=1)"
      ],
      "metadata": {
        "id": "qO60dIZSPFHt"
      },
      "execution_count": null,
      "outputs": []
    },
    {
      "cell_type": "markdown",
      "source": [
        "# Model"
      ],
      "metadata": {
        "id": "vrQNkVxnL8yQ"
      }
    },
    {
      "cell_type": "code",
      "source": [
        "# Creating a sequential model using TensorFlow's Keras API\n",
        "model = tf.keras.models.Sequential()\n",
        "\n",
        "# Flattening the input data (assuming it's a multi-dimensional array)\n",
        "model.add(tf.keras.layers.Flatten())\n",
        "\n",
        "# Adding two dense layers with ReLU activation functions\n",
        "# The first dense layer has 128 units, and the second one also has 128 units\n",
        "model.add(tf.keras.layers.Dense(128, activation=tf.nn.relu))\n",
        "model.add(tf.keras.layers.Dense(128, activation=tf.nn.relu))\n",
        "\n",
        "# Adding an output layer with 10 units (for digits 0 through 9) and softmax activation\n",
        "model.add(tf.keras.layers.Dense(10, activation=tf.nn.softmax))\n",
        "\n",
        "# Compiling the model with the Adam optimizer, sparse categorical crossentropy loss,\n",
        "# and accuracy as the metric for evaluation during training\n",
        "model.compile(optimizer='adam',\n",
        "              loss='sparse_categorical_crossentropy',\n",
        "              metrics=['accuracy'])"
      ],
      "metadata": {
        "id": "fbvUNVjgAsrE"
      },
      "execution_count": null,
      "outputs": []
    },
    {
      "cell_type": "markdown",
      "source": [
        "# Trainning"
      ],
      "metadata": {
        "id": "Sfb4ih26OgSf"
      }
    },
    {
      "cell_type": "code",
      "source": [
        "# Training the model on the training data (x_train) with corresponding labels (y_train)\n",
        "# for a specified number of epochs (3 in this case)\n",
        "model.fit(x_train, y_train, epochs=3)"
      ],
      "metadata": {
        "colab": {
          "base_uri": "https://localhost:8080/"
        },
        "id": "AXBQpU_8CRwD",
        "outputId": "255b71e7-85df-4f41-9d9b-03f6a9b8860d"
      },
      "execution_count": null,
      "outputs": [
        {
          "output_type": "stream",
          "name": "stdout",
          "text": [
            "Epoch 1/3\n",
            "1875/1875 [==============================] - 5s 2ms/step - loss: 0.2629 - accuracy: 0.9224\n",
            "Epoch 2/3\n",
            "1875/1875 [==============================] - 5s 3ms/step - loss: 0.1060 - accuracy: 0.9670\n",
            "Epoch 3/3\n",
            "1875/1875 [==============================] - 4s 2ms/step - loss: 0.0722 - accuracy: 0.9775\n"
          ]
        },
        {
          "output_type": "execute_result",
          "data": {
            "text/plain": [
              "<keras.src.callbacks.History at 0x789a48722830>"
            ]
          },
          "metadata": {},
          "execution_count": 36
        }
      ]
    },
    {
      "cell_type": "markdown",
      "source": [
        "# Accuracy"
      ],
      "metadata": {
        "id": "UicMtQtRRbJ6"
      }
    },
    {
      "cell_type": "code",
      "source": [
        "# Evaluating the trained model on the test data (x_test) with corresponding labels (y_test)\n",
        "# and obtaining the validation loss and accuracy\n",
        "val_loss, val_acc = model.evaluate(x_test, y_test)\n",
        "\n",
        "# Printing the accuracy of the model on the test data\n",
        "print('Accuracy:', val_acc)"
      ],
      "metadata": {
        "colab": {
          "base_uri": "https://localhost:8080/"
        },
        "id": "_8Qt7rJ9PtVT",
        "outputId": "22326b31-e03f-490d-c3fb-471d2fc52700"
      },
      "execution_count": null,
      "outputs": [
        {
          "output_type": "stream",
          "name": "stdout",
          "text": [
            "313/313 [==============================] - 1s 1ms/step - loss: 0.0914 - accuracy: 0.9697\n",
            "Accuracy: 0.9696999788284302\n"
          ]
        }
      ]
    },
    {
      "cell_type": "markdown",
      "source": [
        "# Inference"
      ],
      "metadata": {
        "id": "MDAVxjWARgeC"
      }
    },
    {
      "cell_type": "code",
      "source": [
        "# Making predictions using the trained model on the test data (x_test)\n",
        "predictions = model.predict([x_test])"
      ],
      "metadata": {
        "colab": {
          "base_uri": "https://localhost:8080/"
        },
        "id": "zPfgpkTIEvwo",
        "outputId": "56214a44-a045-4238-bdce-f35dc86f0fc0"
      },
      "execution_count": null,
      "outputs": [
        {
          "output_type": "stream",
          "name": "stdout",
          "text": [
            "313/313 [==============================] - 0s 1ms/step\n"
          ]
        }
      ]
    },
    {
      "cell_type": "code",
      "source": [
        "# Printing the index of the maximum predicted value in the second set of predictions\n",
        "# This can be interpreted as the model's predicted digit for the second test example\n",
        "print(np.argmax(predictions[2]))"
      ],
      "metadata": {
        "colab": {
          "base_uri": "https://localhost:8080/"
        },
        "id": "3w32cnKYE9wE",
        "outputId": "937ae767-1e1c-4d1b-c49b-c66f51d052e9"
      },
      "execution_count": null,
      "outputs": [
        {
          "output_type": "stream",
          "name": "stdout",
          "text": [
            "1\n"
          ]
        }
      ]
    },
    {
      "cell_type": "code",
      "source": [
        "# Displaying the image of the third test example (index 1) using matplotlib\n",
        "plt.imshow(x_test[2])\n",
        "\n",
        "# Showing the plotted image\n",
        "plt.show()"
      ],
      "metadata": {
        "colab": {
          "base_uri": "https://localhost:8080/",
          "height": 430
        },
        "id": "v0ZQ2-iYFJXY",
        "outputId": "e1497457-76de-4acf-e658-4034e3d0e30b"
      },
      "execution_count": null,
      "outputs": [
        {
          "output_type": "display_data",
          "data": {
            "text/plain": [
              "<Figure size 640x480 with 1 Axes>"
            ],
            "image/png": "[encoded data removed]"
          },
          "metadata": {}
        }
      ]
    }
  ]
}